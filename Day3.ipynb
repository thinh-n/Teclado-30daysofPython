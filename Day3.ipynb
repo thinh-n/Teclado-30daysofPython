{
 "cells": [
  {
   "cell_type": "code",
   "execution_count": null,
   "id": "6cd0da7f-9e0b-4a0a-8817-0ec533a56601",
   "metadata": {},
   "outputs": [],
   "source": [
    "Day 3: Formatting Strings and Processing User Input"
   ]
  },
  {
   "cell_type": "code",
   "execution_count": null,
   "id": "fe62b967-e2c4-4dfd-a2d8-dcd437f1f373",
   "metadata": {},
   "outputs": [],
   "source": [
    "Exercises"
   ]
  },
  {
   "cell_type": "code",
   "execution_count": 3,
   "id": "706d924e-ebf6-43b3-8575-3f146a90c1fe",
   "metadata": {},
   "outputs": [
    {
     "name": "stdout",
     "output_type": "stream",
     "text": [
      "Hello, world!\n"
     ]
    }
   ],
   "source": [
    "greeting = \"Hello, world\"\n",
    "print(greeting + \"!\")"
   ]
  },
  {
   "cell_type": "code",
   "execution_count": 15,
   "id": "1780dc2c-7c3e-420e-b4f9-c053437e9f3e",
   "metadata": {},
   "outputs": [
    {
     "name": "stdin",
     "output_type": "stream",
     "text": [
      "Enter your name here:      thinh nguyen  \n"
     ]
    },
    {
     "name": "stdout",
     "output_type": "stream",
     "text": [
      "Hello, Thinh Nguyen!\n"
     ]
    }
   ],
   "source": [
    "name = input(\"Enter your name here: \")\n",
    "name = name.strip().title()\n",
    "print(f\"Hello, {name}!\")"
   ]
  },
  {
   "cell_type": "code",
   "execution_count": 18,
   "id": "b6aee504-0078-4112-9b5e-6caa098e5d91",
   "metadata": {},
   "outputs": [
    {
     "name": "stdout",
     "output_type": "stream",
     "text": [
      "I am 29\n"
     ]
    }
   ],
   "source": [
    "string = \"I am \"\n",
    "integer = 29\n",
    "print(string + str(integer))"
   ]
  },
  {
   "cell_type": "code",
   "execution_count": 24,
   "id": "186c9265-4e8d-4797-8132-445812b80174",
   "metadata": {},
   "outputs": [
    {
     "name": "stdout",
     "output_type": "stream",
     "text": [
      "Joker (2019), directed by Todd Phillips\n"
     ]
    }
   ],
   "source": [
    "title = \"Joker\"\n",
    "director = \"Todd Phillips\"\n",
    "release_year = 2019\n",
    "\n",
    "print(f\"{title} ({str(release_year)}), directed by {director}\")"
   ]
  },
  {
   "cell_type": "code",
   "execution_count": null,
   "id": "175945f3-9069-4c12-abe0-16be50f14c06",
   "metadata": {
    "tags": []
   },
   "outputs": [],
   "source": [
    "Day 3 Project: A Simple Earnings Calculator"
   ]
  },
  {
   "cell_type": "code",
   "execution_count": 29,
   "id": "cef2cfee-3d1e-43c7-a824-b8b9775834ab",
   "metadata": {},
   "outputs": [
    {
     "name": "stdin",
     "output_type": "stream",
     "text": [
      "Please enter your name:     thinh nguyen\n",
      "Please enter your hourly wage:  20\n",
      "Please enter your hours worked this week:  40\n"
     ]
    },
    {
     "name": "stdout",
     "output_type": "stream",
     "text": [
      "Thinh Nguyen earned $800 this week\n"
     ]
    }
   ],
   "source": [
    "#prompt user for name and cleans name entry\n",
    "name = input(\"Please enter your name: \")\n",
    "name = name.strip().title()\n",
    "\n",
    "#prompt user for hourly wage and hours worked this week\n",
    "hourly_wage = input(\"Please enter your hourly wage: \")\n",
    "hours_worked = input(\"Please enter your hours worked this week: \")\n",
    "\n",
    "#calculate total earnings\n",
    "total_earnings = int(hourly_wage) * int(hours_worked)\n",
    "\n",
    "#print final statement\n",
    "print(f\"{name} earned ${total_earnings} this week.\")"
   ]
  },
  {
   "cell_type": "code",
   "execution_count": null,
   "id": "8c74fa42-ec76-4345-ac6f-e30c91888472",
   "metadata": {},
   "outputs": [],
   "source": []
  }
 ],
 "metadata": {
  "kernelspec": {
   "display_name": "Python 3 (ipykernel)",
   "language": "python",
   "name": "python3"
  },
  "language_info": {
   "codemirror_mode": {
    "name": "ipython",
    "version": 3
   },
   "file_extension": ".py",
   "mimetype": "text/x-python",
   "name": "python",
   "nbconvert_exporter": "python",
   "pygments_lexer": "ipython3",
   "version": "3.9.12"
  }
 },
 "nbformat": 4,
 "nbformat_minor": 5
}
