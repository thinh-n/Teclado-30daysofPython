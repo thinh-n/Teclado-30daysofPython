{
 "cells": [
  {
   "cell_type": "code",
   "execution_count": null,
   "id": "6cd0da7f-9e0b-4a0a-8817-0ec533a56601",
   "metadata": {},
   "outputs": [],
   "source": [
    "Day 3: Formatting Strings and Processing User Input"
   ]
  },
  {
   "cell_type": "code",
   "execution_count": null,
   "id": "fe62b967-e2c4-4dfd-a2d8-dcd437f1f373",
   "metadata": {},
   "outputs": [],
   "source": [
    "Exercises"
   ]
  },
  {
   "cell_type": "code",
   "execution_count": 3,
   "id": "706d924e-ebf6-43b3-8575-3f146a90c1fe",
   "metadata": {},
   "outputs": [
    {
     "name": "stdout",
     "output_type": "stream",
     "text": [
      "Hello, world!\n"
     ]
    }
   ],
   "source": [
    "greeting = \"Hello, world\"\n",
    "print(greeting + \"!\")"
   ]
  },
  {
   "cell_type": "code",
   "execution_count": 15,
   "id": "1780dc2c-7c3e-420e-b4f9-c053437e9f3e",
   "metadata": {},
   "outputs": [
    {
     "name": "stdin",
     "output_type": "stream",
     "text": [
      "Enter your name here:      thinh nguyen  \n"
     ]
    },
    {
     "name": "stdout",
     "output_type": "stream",
     "text": [
      "Hello, Thinh Nguyen!\n"
     ]
    }
   ],
   "source": [
    "name = input(\"Enter your name here: \")\n",
    "name = name.strip().title()\n",
    "print(f\"Hello, {name}!\")"
   ]
  },
  {
   "cell_type": "code",
   "execution_count": 18,
   "id": "b6aee504-0078-4112-9b5e-6caa098e5d91",
   "metadata": {},
   "outputs": [
    {
     "name": "stdout",
     "output_type": "stream",
     "text": [
      "I am 29\n"
     ]
    }
   ],
   "source": [
    "string = \"I am \"\n",
    "integer = 29\n",
    "print(string + str(integer))"
   ]
  },
  {
   "cell_type": "code",
   "execution_count": 24,
   "id": "186c9265-4e8d-4797-8132-445812b80174",
   "metadata": {},
   "outputs": [
    {
     "name": "stdout",
     "output_type": "stream",
     "text": [
      "Joker (2019), directed by Todd Phillips\n"
     ]
    }
   ],
   "source": [
    "title = \"Joker\"\n",
    "director = \"Todd Phillips\"\n",
    "release_year = 2019\n",
    "\n",
    "print(f\"{title} ({str(release_year)}), directed by {director}\")"
   ]
  }
 ],
 "metadata": {
  "kernelspec": {
   "display_name": "Python 3 (ipykernel)",
   "language": "python",
   "name": "python3"
  },
  "language_info": {
   "codemirror_mode": {
    "name": "ipython",
    "version": 3
   },
   "file_extension": ".py",
   "mimetype": "text/x-python",
   "name": "python",
   "nbconvert_exporter": "python",
   "pygments_lexer": "ipython3",
   "version": "3.9.12"
  }
 },
 "nbformat": 4,
 "nbformat_minor": 5
}
