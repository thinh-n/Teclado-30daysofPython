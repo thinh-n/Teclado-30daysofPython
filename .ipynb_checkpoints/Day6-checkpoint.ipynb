{
 "cells": [
  {
   "cell_type": "code",
   "execution_count": null,
   "id": "dc9bc2c8-54ae-40da-b3b4-1a63e3860bbf",
   "metadata": {},
   "outputs": [],
   "source": [
    "Day 6: For Loops"
   ]
  },
  {
   "cell_type": "code",
   "execution_count": 12,
   "id": "1e45891e-a09f-400a-88c1-0f52fda9dc4a",
   "metadata": {},
   "outputs": [
    {
     "name": "stdout",
     "output_type": "stream",
     "text": [
      "Eternal Sunshine of the Spotless Mind (2004), by Michel Gondry\n",
      "Memento (2000), by Christopher Nolan\n",
      "Requiem for a Dream (2000), by Darren Aronofsky\n"
     ]
    }
   ],
   "source": [
    "movies = [\n",
    "\t(\n",
    "\t\t\"Eternal Sunshine of the Spotless Mind\",\n",
    "\t\t\"Michel Gondry\",\n",
    "\t\t2004\n",
    "\t),\n",
    "\t(\n",
    "\t\t\"Memento\",\n",
    "\t\t\"Christopher Nolan\",\n",
    "\t\t2000\n",
    "\t),\n",
    "\t(\n",
    "\t\t\"Requiem for a Dream\",\n",
    "\t\t\"Darren Aronofsky\",\n",
    "\t\t2000\n",
    "\t)\n",
    "]\n",
    "\n",
    "for movie in movies:\n",
    "\t  print(f\"{movie[0]} ({movie[2]}), by {movie[1]}\")\n",
    "    "
   ]
  },
  {
   "cell_type": "code",
   "execution_count": null,
   "id": "3c5c2f6d-3c75-4252-82fd-8e10cc3dad15",
   "metadata": {},
   "outputs": [],
   "source": [
    "Exercises"
   ]
  },
  {
   "cell_type": "code",
   "execution_count": 13,
   "id": "e2e12104-7e38-4bf5-8db8-26438cba8198",
   "metadata": {},
   "outputs": [
    {
     "name": "stdout",
     "output_type": "stream",
     "text": [
      "Rolf Smith will be paid $306.25 this week.\n",
      "Anne Pun will be paid $375.0 this week.\n",
      "Charlie Lee will be paid $775.0 this week.\n",
      "Bob Smith will be paid $140.0 this week.\n"
     ]
    }
   ],
   "source": [
    "employees = [\n",
    "    (\"Rolf Smith\", 35, 8.75),\n",
    "    (\"Anne Pun\", 30, 12.50),\n",
    "    (\"Charlie Lee\", 50, 15.50),\n",
    "    (\"Bob Smith\", 20, 7.00)\n",
    "]\n",
    "\n",
    "for weekly_pay in employees:\n",
    "    pay = weekly_pay[1] * weekly_pay[2]\n",
    "    print(f\"{weekly_pay[0]} will be paid ${pay} this week.\")"
   ]
  },
  {
   "cell_type": "code",
   "execution_count": 27,
   "id": "7450ee57-2ee6-4ece-bd75-55fcd2895d7e",
   "metadata": {},
   "outputs": [
    {
     "name": "stdout",
     "output_type": "stream",
     "text": [
      "10.9375\n",
      "Anne Pun earns above the average wage.\n",
      "Charlie Lee earns above the average wage.\n"
     ]
    }
   ],
   "source": [
    "employees = [\n",
    "    (\"Rolf Smith\", 35, 8.75),\n",
    "    (\"Anne Pun\", 30, 12.50),\n",
    "    (\"Charlie Lee\", 50, 15.50),\n",
    "    (\"Bob Smith\", 20, 7.00)\n",
    "]\n",
    "\n",
    "total_wages = 0\n",
    "total_employees = 0\n",
    "\n",
    "for employee in employees:\n",
    "    total_wages = total_wages + employee[2]\n",
    "    total_employees = total_employees + 1\n",
    "\n",
    "average_wage = total_wages / total_employees\n",
    "\n",
    "print(average_wage)\n",
    "    \n",
    "for employee in employees:\n",
    "    if employee[2] > average_wage:\n",
    "        print(f\"{employee[0]} earns above the average wage.\")"
   ]
  },
  {
   "cell_type": "code",
   "execution_count": 23,
   "id": "94080a91-c74c-497d-af0f-3bc2df8d586e",
   "metadata": {
    "tags": []
   },
   "outputs": [],
   "source": [
    "Project - Fizz Buzz"
   ]
  },
  {
   "cell_type": "code",
   "execution_count": 41,
   "id": "cf54cf68-4fb8-41e2-9232-3f0fb911d0dd",
   "metadata": {},
   "outputs": [
    {
     "name": "stdout",
     "output_type": "stream",
     "text": [
      "1\n",
      "2\n",
      "Fizz\n",
      "4\n",
      "Buzz\n",
      "Fizz\n",
      "7\n",
      "8\n",
      "Fizz\n",
      "Buzz\n",
      "11\n",
      "Fizz\n",
      "13\n",
      "14\n",
      "Fizz Buzz\n"
     ]
    }
   ],
   "source": [
    "for number in range(1,16):\n",
    "    if float(number/15) == int(number/15):\n",
    "        print(\"Fizz Buzz\")\n",
    "    elif float(number/5) == int(number/5):\n",
    "        print(\"Buzz\")\n",
    "    elif float(number/3) == int(number/3):\n",
    "        print(\"Fizz\")\n",
    "    else:\n",
    "        print(number)"
   ]
  },
  {
   "cell_type": "code",
   "execution_count": null,
   "id": "fea77df7-549f-4067-9ed0-2adaaf3e8385",
   "metadata": {},
   "outputs": [],
   "source": []
  }
 ],
 "metadata": {
  "kernelspec": {
   "display_name": "Python 3 (ipykernel)",
   "language": "python",
   "name": "python3"
  },
  "language_info": {
   "codemirror_mode": {
    "name": "ipython",
    "version": 3
   },
   "file_extension": ".py",
   "mimetype": "text/x-python",
   "name": "python",
   "nbconvert_exporter": "python",
   "pygments_lexer": "ipython3",
   "version": "3.9.12"
  }
 },
 "nbformat": 4,
 "nbformat_minor": 5
}
