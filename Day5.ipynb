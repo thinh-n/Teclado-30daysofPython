{
 "cells": [
  {
   "cell_type": "code",
   "execution_count": null,
   "id": "6dd02c5a-4bc3-4e00-831f-e23a6e454fee",
   "metadata": {},
   "outputs": [],
   "source": [
    "Day 5: Conditionals and Booleans"
   ]
  },
  {
   "cell_type": "code",
   "execution_count": 1,
   "id": "47d21427-90b7-4a93-848b-9a80fc0b2c91",
   "metadata": {},
   "outputs": [],
   "source": [
    "movies = [\n",
    "\t(\"Inside Out\", 2015, True),\n",
    "\t(\"Toy Story 4\", 2019, False),\n",
    "\t(\"Up\", 2009, True)\n",
    "]"
   ]
  },
  {
   "cell_type": "code",
   "execution_count": 2,
   "id": "d4c5dbc6-1e1c-420b-8c50-5ce73a4983f9",
   "metadata": {},
   "outputs": [
    {
     "name": "stdout",
     "output_type": "stream",
     "text": [
      "True\n",
      "False\n"
     ]
    }
   ],
   "source": [
    "print(True)   # True\n",
    "print(False)  # False"
   ]
  },
  {
   "cell_type": "code",
   "execution_count": null,
   "id": "435fb040-2914-4d95-9b32-f27ce92b7e19",
   "metadata": {},
   "outputs": [],
   "source": [
    "Exercises"
   ]
  },
  {
   "cell_type": "code",
   "execution_count": 4,
   "id": "ca14cba5-0d9b-46c7-aeb3-5009172ff9ff",
   "metadata": {},
   "outputs": [],
   "source": [
    "a = [1, 2, 3]\n",
    "b = [1, 2, 3]\n",
    "c = a"
   ]
  },
  {
   "cell_type": "code",
   "execution_count": 5,
   "id": "bd79b85a-a9dc-4504-a58a-2cc752810d20",
   "metadata": {},
   "outputs": [
    {
     "data": {
      "text/plain": [
       "True"
      ]
     },
     "execution_count": 5,
     "metadata": {},
     "output_type": "execute_result"
    }
   ],
   "source": [
    "a == b"
   ]
  },
  {
   "cell_type": "code",
   "execution_count": 6,
   "id": "e1d9bfa8-e14b-4453-a02a-17f2a4a15087",
   "metadata": {},
   "outputs": [
    {
     "data": {
      "text/plain": [
       "True"
      ]
     },
     "execution_count": 6,
     "metadata": {},
     "output_type": "execute_result"
    }
   ],
   "source": [
    "a == c"
   ]
  },
  {
   "cell_type": "code",
   "execution_count": 7,
   "id": "d52faa52-79a4-4ced-bd74-bc9527e3ce74",
   "metadata": {},
   "outputs": [
    {
     "data": {
      "text/plain": [
       "True"
      ]
     },
     "execution_count": 7,
     "metadata": {},
     "output_type": "execute_result"
    }
   ],
   "source": [
    "b == c"
   ]
  },
  {
   "cell_type": "code",
   "execution_count": 8,
   "id": "4bfecd97-b7f1-4528-a393-121d3f2ee4aa",
   "metadata": {},
   "outputs": [
    {
     "data": {
      "text/plain": [
       "False"
      ]
     },
     "execution_count": 8,
     "metadata": {},
     "output_type": "execute_result"
    }
   ],
   "source": [
    "a is b"
   ]
  },
  {
   "cell_type": "code",
   "execution_count": 9,
   "id": "7ea08cc3-dda0-44c3-868b-278ad9713c35",
   "metadata": {},
   "outputs": [
    {
     "data": {
      "text/plain": [
       "True"
      ]
     },
     "execution_count": 9,
     "metadata": {},
     "output_type": "execute_result"
    }
   ],
   "source": [
    "a is c"
   ]
  },
  {
   "cell_type": "code",
   "execution_count": 10,
   "id": "c2b5c454-5cea-4db5-aa68-9ed868aa07f8",
   "metadata": {},
   "outputs": [
    {
     "data": {
      "text/plain": [
       "False"
      ]
     },
     "execution_count": 10,
     "metadata": {},
     "output_type": "execute_result"
    }
   ],
   "source": [
    "b is c"
   ]
  },
  {
   "cell_type": "code",
   "execution_count": 16,
   "id": "9f259245-d43e-4122-97e6-27aa1965fc7b",
   "metadata": {},
   "outputs": [
    {
     "name": "stdout",
     "output_type": "stream",
     "text": [
      "140688570845888\n",
      "140688570852480\n",
      "140688570845888\n"
     ]
    }
   ],
   "source": [
    "print(id(a))\n",
    "print(id(b))\n",
    "print(id(c))"
   ]
  },
  {
   "cell_type": "raw",
   "id": "6612021a-c400-45d0-88bd-ab42f94e2fa5",
   "metadata": {},
   "source": [
    "# a, b, c are all the same values (==), but are not necessarily the same piece of information (memory address, id)"
   ]
  },
  {
   "cell_type": "code",
   "execution_count": 29,
   "id": "9b5f3519-471d-43a8-a610-111bcaf09d94",
   "metadata": {},
   "outputs": [
    {
     "name": "stdout",
     "output_type": "stream",
     "text": [
      "[1, 2, 3, 4]\n",
      "[1, 2, 3, 4, 5]\n"
     ]
    },
    {
     "data": {
      "text/plain": [
       "False"
      ]
     },
     "execution_count": 29,
     "metadata": {},
     "output_type": "execute_result"
    }
   ],
   "source": [
    "numbers = [1, 2, 3, 4]\n",
    "new_numbers = numbers + [5]\n",
    "\n",
    "print(numbers)\n",
    "print(new_numbers)\n",
    "\n",
    "numbers is new_numbers"
   ]
  },
  {
   "cell_type": "code",
   "execution_count": 30,
   "id": "eb515439-9f12-47d8-ba94-1f58a9197b64",
   "metadata": {},
   "outputs": [
    {
     "name": "stdout",
     "output_type": "stream",
     "text": [
      "True\n",
      "[1, 2, 3, 4, 5]\n"
     ]
    }
   ],
   "source": [
    "numbers = [1, 2, 3, 4]\n",
    "print(numbers is numbers)\n",
    "\n",
    "numbers.append(5)\n",
    "\n",
    "print(numbers)"
   ]
  },
  {
   "cell_type": "code",
   "execution_count": 26,
   "id": "77196912-a863-4535-bf21-526a8abc41d9",
   "metadata": {},
   "outputs": [
    {
     "data": {
      "text/plain": [
       "False"
      ]
     },
     "execution_count": 26,
     "metadata": {},
     "output_type": "execute_result"
    }
   ],
   "source": [
    "numbers is new_numbers"
   ]
  },
  {
   "cell_type": "code",
   "execution_count": 70,
   "id": "0e266c8a-efe8-4d03-942a-74152b276f7a",
   "metadata": {},
   "outputs": [
    {
     "name": "stdin",
     "output_type": "stream",
     "text": [
      "Please enter a number:  -23.2\n"
     ]
    },
    {
     "name": "stdout",
     "output_type": "stream",
     "text": [
      "-23.2 is a negative number\n"
     ]
    }
   ],
   "source": [
    "#tells user if the number input is positive, negative, or zero\n",
    "\n",
    "number = float(input(\"Please enter a number: \"))\n",
    "\n",
    "if number > 0:\n",
    "    print(f\"{number} is a positive number\")\n",
    "elif number < 0:\n",
    "    print(f\"{number} is a negative number\")\n",
    "else:\n",
    "    print(f\"{number} is zero\")"
   ]
  },
  {
   "cell_type": "code",
   "execution_count": 79,
   "id": "4c6a5bb3-9b48-4778-875b-e2b6f7cb986e",
   "metadata": {},
   "outputs": [
    {
     "name": "stdin",
     "output_type": "stream",
     "text": [
      "Enter your hourly wage:  20\n",
      "Enter your hours worked for the week:  45\n"
     ]
    },
    {
     "name": "stdout",
     "output_type": "stream",
     "text": [
      "You worked over 40 hours this week and have overtime pay. Your total pay for this week is 910.0. Your overtime pay for the week is 110.0.\n"
     ]
    }
   ],
   "source": [
    "#tells user if additional/overtime pay is due and how much total pay\n",
    "\n",
    "hourly_wage = float(input(\"Enter your hourly wage: \"))\n",
    "hours_worked = float(input(\"Enter your hours worked for the week: \"))\n",
    "\n",
    "if hours_worked <= 40:\n",
    "    total_pay = hourly_wage * hours_worked\n",
    "    print(f\"Your total pay for this week is {total_pay}.\")\n",
    "else:\n",
    "    overtime_hours = hours_worked - 40\n",
    "    overtime_pay = (hourly_wage * 1.1 * overtime_hours)\n",
    "    total_pay = (hourly_wage * 40) + (overtime_pay)\n",
    "    print(f\"You worked over 40 hours this week and have overtime pay. Your total pay for this week is {total_pay}. Your overtime pay for the week is {overtime_pay}.\")"
   ]
  },
  {
   "cell_type": "code",
   "execution_count": 80,
   "id": "8b24c3e8-8b21-44b4-b962-7b23f303b3c7",
   "metadata": {},
   "outputs": [
    {
     "data": {
      "text/plain": [
       "110.0"
      ]
     },
     "execution_count": 80,
     "metadata": {},
     "output_type": "execute_result"
    }
   ],
   "source": [
    "20*1.1*5\n"
   ]
  },
  {
   "cell_type": "code",
   "execution_count": null,
   "id": "545794d1-ab15-4689-a42b-0201c2c7a7b4",
   "metadata": {},
   "outputs": [],
   "source": []
  }
 ],
 "metadata": {
  "kernelspec": {
   "display_name": "Python 3 (ipykernel)",
   "language": "python",
   "name": "python3"
  },
  "language_info": {
   "codemirror_mode": {
    "name": "ipython",
    "version": 3
   },
   "file_extension": ".py",
   "mimetype": "text/x-python",
   "name": "python",
   "nbconvert_exporter": "python",
   "pygments_lexer": "ipython3",
   "version": "3.9.12"
  }
 },
 "nbformat": 4,
 "nbformat_minor": 5
}
