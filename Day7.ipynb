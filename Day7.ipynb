{
 "cells": [
  {
   "cell_type": "code",
   "execution_count": null,
   "id": "cfa76414-af5f-412f-8780-b61c5ad6f0b3",
   "metadata": {},
   "outputs": [],
   "source": [
    "Day 7: split, join, and Slices"
   ]
  },
  {
   "cell_type": "code",
   "execution_count": null,
   "id": "7125465b-bd76-430c-8e75-b1f59480f37c",
   "metadata": {},
   "outputs": [],
   "source": [
    "Exercises"
   ]
  },
  {
   "cell_type": "code",
   "execution_count": 4,
   "id": "c2912623-ac32-4018-b692-d2b5fe0f17e0",
   "metadata": {},
   "outputs": [
    {
     "name": "stdin",
     "output_type": "stream",
     "text": [
      "Enter your first and last name:  Thinh Nguyen\n"
     ]
    },
    {
     "name": "stdout",
     "output_type": "stream",
     "text": [
      "['Thinh', 'Nguyen']\n",
      "Thinh\n",
      "Nguyen\n"
     ]
    }
   ],
   "source": [
    "full_name = input(\"Enter your first and last name: \")\n",
    "\n",
    "full_name_list = full_name.split()\n",
    "print(full_name_list)\n",
    "\n",
    "first_name = full_name_list[0]\n",
    "print(first_name)\n",
    "\n",
    "last_name = full_name_list[1]\n",
    "print(last_name)"
   ]
  },
  {
   "cell_type": "code",
   "execution_count": 9,
   "id": "7493c897-1747-4910-bb7d-751627e152dd",
   "metadata": {},
   "outputs": [
    {
     "name": "stdout",
     "output_type": "stream",
     "text": [
      "[1, 2, 3, 4, 5]\n"
     ]
    }
   ],
   "source": [
    "list = [1, 2, 3, 4, 5]\n",
    "print(list)\n",
    "list_str = []\n",
    "\n",
    "for number in list:\n",
    "    list_str.append(str(number))"
   ]
  },
  {
   "cell_type": "code",
   "execution_count": 11,
   "id": "92e15919-91f0-4584-89f6-6448644154d9",
   "metadata": {},
   "outputs": [
    {
     "name": "stdout",
     "output_type": "stream",
     "text": [
      "1 | 2 | 3 | 4 | 5\n"
     ]
    }
   ],
   "source": [
    "print(f\"{' | '.join(list_str)}\")"
   ]
  },
  {
   "cell_type": "code",
   "execution_count": 12,
   "id": "19fef021-df0a-4ee0-a68e-9f43ea479c63",
   "metadata": {},
   "outputs": [],
   "source": [
    "quotes = [\n",
    " \t\"'What a waste my life would be without all the beautiful mistakes I've made.'\",\n",
    " \t\"'A bend in the road is not the end of the road... Unless you fail to make the turn.'\",\n",
    " \t\"'The very essence of romance is uncertainty.'\",\n",
    " \t\"'We are not here to do what has already been done.'\"\n",
    " ]"
   ]
  },
  {
   "cell_type": "code",
   "execution_count": 14,
   "id": "c9f88763-d453-4f4f-b7f8-8e0df858403d",
   "metadata": {},
   "outputs": [
    {
     "name": "stdout",
     "output_type": "stream",
     "text": [
      "What a waste my life would be without all the beautiful mistakes I've made.\n",
      "A bend in the road is not the end of the road... Unless you fail to make the turn.\n",
      "The very essence of romance is uncertainty.\n",
      "We are not here to do what has already been done.\n"
     ]
    }
   ],
   "source": [
    "for quote in quotes:\n",
    "    print(quote[1:-1])"
   ]
  },
  {
   "cell_type": "code",
   "execution_count": 16,
   "id": "25bcc7b6-2040-4de5-902c-60d69ae6d4cb",
   "metadata": {},
   "outputs": [
    {
     "name": "stdin",
     "output_type": "stream",
     "text": [
      "Enter any word:      apples  \n"
     ]
    },
    {
     "name": "stdout",
     "output_type": "stream",
     "text": [
      "apples\n"
     ]
    },
    {
     "data": {
      "text/plain": [
       "6"
      ]
     },
     "execution_count": 16,
     "metadata": {},
     "output_type": "execute_result"
    }
   ],
   "source": [
    "word = input(\"Enter any word: \")\n",
    "\n",
    "word = word.strip()\n",
    "print(word)\n",
    "len(word)"
   ]
  },
  {
   "cell_type": "code",
   "execution_count": 30,
   "id": "2390dd0f-09a7-48ce-9e11-8e2755830088",
   "metadata": {},
   "outputs": [
    {
     "name": "stdin",
     "output_type": "stream",
     "text": [
      "Enter any amount of words or sentence:  welcome to the club\n"
     ]
    },
    {
     "name": "stdout",
     "output_type": "stream",
     "text": [
      "['welcome', 'to', 'the', 'club']\n",
      "Number of words: 4\n",
      "Number of character: 19\n"
     ]
    }
   ],
   "source": [
    "sentence = input(\"Enter any amount of words or sentence: \")\n",
    "word_list = []\n",
    "\n",
    "word_list = sentence.split()\n",
    "print(word_list)\n",
    "\n",
    "print(f\"Number of words: {len(word_list)}\")\n",
    "print(f\"Number of character: {len(sentence)}\")"
   ]
  },
  {
   "cell_type": "code",
   "execution_count": null,
   "id": "0816079a-8449-46e3-bdef-e0370326bc40",
   "metadata": {},
   "outputs": [],
   "source": [
    "Day 7 Project: Movie Budgets"
   ]
  },
  {
   "cell_type": "code",
   "execution_count": 50,
   "id": "4f6a648d-04a4-469b-8f7e-e3a19ce793a8",
   "metadata": {},
   "outputs": [
    {
     "name": "stdin",
     "output_type": "stream",
     "text": [
      "How many movies would you like to add?  1\n",
      "Name a movie you would like to add:  3000000\n",
      "What is the budget of the movie? ($) 3000000\n"
     ]
    },
    {
     "name": "stdout",
     "output_type": "stream",
     "text": [
      "Total budget: 1336500000\n",
      "Total Movies: 8\n",
      "Average Budget: 167062500.0\n",
      "('Pirates of the Caribbean: On Stranger Tides', 379000000)\n",
      "Pirates of the Caribbean: On Stranger Tides had a budget $211937500.0 higher than the average movie's budget.\n",
      "('Avengers: Age of Ultron', 365000000)\n",
      "Avengers: Age of Ultron had a budget $197937500.0 higher than the average movie's budget.\n",
      "('Avengers: Endgame', 356000000)\n",
      "Avengers: Endgame had a budget $188937500.0 higher than the average movie's budget.\n",
      "('Incredibles 2', 200000000)\n",
      "Incredibles 2 had a budget $32937500.0 higher than the average movie's budget.\n",
      "4 movies had an above average budget.\n"
     ]
    }
   ],
   "source": [
    "movies = [\n",
    "    (\"Eternal Sunshine of the Spotless Mind\", 20000000),\n",
    "    (\"Memento\", 9000000),\n",
    "    (\"Requiem for a Dream\", 4500000),\n",
    "    (\"Pirates of the Caribbean: On Stranger Tides\", 379000000),\n",
    "    (\"Avengers: Age of Ultron\", 365000000),\n",
    "    (\"Avengers: Endgame\", 356000000),\n",
    "    (\"Incredibles 2\", 200000000)\n",
    "]\n",
    "\n",
    "num_movies = input(\"How many movies would you like to add? \")\n",
    "num_movies = num_movies.strip()\n",
    "\n",
    "for movie in range(0,int(num_movies)):\n",
    "    new_movie = input(\"Name a movie you would like to add: \")\n",
    "    new_movie = new_movie.title()\n",
    "    new_movie_budget = input(\"What is the budget of the movie? ($)\")\n",
    "    new_movie_budget = int(new_movie_budget)\n",
    "    movie = (new_movie, new_movie_budget)\n",
    "    movies.append(movie)\n",
    "\n",
    "total_budget = 0\n",
    "total_movies = 0\n",
    "\n",
    "for movie in movies:\n",
    "    total_movies = total_movies + 1\n",
    "    total_budget = total_budget + int(movie[1])\n",
    "    \n",
    "avg_budget = total_budget / total_movies\n",
    "print(f\"Total budget: {total_budget}\\nTotal Movies: {total_movies}\\nAverage Budget: {avg_budget}\")\n",
    "\n",
    "diff_budget = 0\n",
    "total_above_budget = 0\n",
    "\n",
    "for movie in movies:\n",
    "    if movie[1] > avg_budget:\n",
    "        print(movie)\n",
    "        diff_budget = movie[1] - avg_budget\n",
    "        print(f\"{movie[0]} had a budget ${diff_budget} higher than the average movie's budget.\")\n",
    "        total_above_budget = total_above_budget + 1\n",
    "\n",
    "print(f\"{total_above_budget} movies had an above average budget.\")"
   ]
  },
  {
   "cell_type": "code",
   "execution_count": null,
   "id": "94f8416c-11e7-43df-b998-a264599302ef",
   "metadata": {},
   "outputs": [],
   "source": []
  }
 ],
 "metadata": {
  "kernelspec": {
   "display_name": "Python 3 (ipykernel)",
   "language": "python",
   "name": "python3"
  },
  "language_info": {
   "codemirror_mode": {
    "name": "ipython",
    "version": 3
   },
   "file_extension": ".py",
   "mimetype": "text/x-python",
   "name": "python",
   "nbconvert_exporter": "python",
   "pygments_lexer": "ipython3",
   "version": "3.9.12"
  }
 },
 "nbformat": 4,
 "nbformat_minor": 5
}
