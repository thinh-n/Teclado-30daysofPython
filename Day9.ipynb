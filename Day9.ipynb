{
 "cells": [
  {
   "cell_type": "code",
   "execution_count": null,
   "id": "f8ae717a-a9ca-44ab-8810-9758a4f0ac0d",
   "metadata": {},
   "outputs": [],
   "source": [
    "Day 9: Unpacking, Enumeration, and the zip Function"
   ]
  },
  {
   "cell_type": "code",
   "execution_count": null,
   "id": "bdc2675e-2896-4d4d-b200-d1fb1dcd216d",
   "metadata": {},
   "outputs": [],
   "source": [
    "Exercises"
   ]
  },
  {
   "cell_type": "code",
   "execution_count": 2,
   "id": "0dbf83fb-07b7-4d90-873a-35d36fb16525",
   "metadata": {},
   "outputs": [
    {
     "name": "stdout",
     "output_type": "stream",
     "text": [
      "BoJack Horseman is a Horse voiced by Will Arnett.\n",
      "Princess Carolyn is a Cat voiced by Amy Sedaris.\n",
      "Diane Nguyen is a Human voiced by Alison Brie.\n",
      "Mr. Peanutbutter is a Dog voiced by Paul F. Tompkins.\n",
      "Todd Chavez is a Human voiced by Aaron Paul.\n"
     ]
    }
   ],
   "source": [
    "#Write a for loop that uses destructuring so that you can print each tuple \n",
    "#in the following format:\n",
    "#BoJack Horseman is a horse voiced by Will Arnet.\n",
    "\n",
    "main_characters = [\n",
    "    (\"BoJack Horseman\", \"Will Arnett\", \"Horse\"),\n",
    "    (\"Princess Carolyn\", \"Amy Sedaris\", \"Cat\"),\n",
    "    (\"Diane Nguyen\", \"Alison Brie\", \"Human\"),\n",
    "    (\"Mr. Peanutbutter\", \"Paul F. Tompkins\", \"Dog\"),\n",
    "    (\"Todd Chavez\", \"Aaron Paul\", \"Human\")\n",
    "]\n",
    "\n",
    "for character, voice, species in main_characters:\n",
    "    print(f\"{character} is a {species} voiced by {voice}.\")"
   ]
  },
  {
   "cell_type": "code",
   "execution_count": 14,
   "id": "ab355b1c-4d19-4819-a90a-a2778b43874a",
   "metadata": {},
   "outputs": [
    {
     "name": "stdout",
     "output_type": "stream",
     "text": [
      "John Smith 11743 Computer Science Mathematics\n"
     ]
    }
   ],
   "source": [
    "#Unpack the following tuple into 4 variables:\n",
    "student = (\"John Smith\", 11743, (\"Computer Science\", \"Mathematics\"))\n",
    "\n",
    "name, idNumber, discipline = student\n",
    "major, minor = discipline\n",
    "print(name, idNumber, major, minor)"
   ]
  },
  {
   "cell_type": "code",
   "execution_count": 18,
   "id": "8e15056f-213d-4152-820d-a332d7888cda",
   "metadata": {},
   "outputs": [
    {
     "name": "stdout",
     "output_type": "stream",
     "text": [
      "Computer Science\n"
     ]
    }
   ],
   "source": [
    "#Unpack the following tuple into 4 variables:\n",
    "student = (\"John Smith\", 11743, (\"Computer Science\", \"Mathematics\"))\n",
    "\n",
    "name, idNumber, (major, minor) = student\n",
    "print(major)"
   ]
  },
  {
   "cell_type": "code",
   "execution_count": 15,
   "id": "e1f311fc-b392-485f-98f5-73eb01b6f3da",
   "metadata": {},
   "outputs": [
    {
     "name": "stdout",
     "output_type": "stream",
     "text": [
      "[('apple', 'carrot'), ('banana', 'broccoli'), ('blueberry', 'squash')]\n"
     ]
    }
   ],
   "source": [
    "#Investigate what happens when you try to zip two iterables of different \n",
    "#lengths. For example, try to zip a list containing three items, and a tuples \n",
    "#containing four items.\n",
    "\n",
    "fruit = [\"apple\", \"banana\", \"blueberry\", \"strawberry\"]\n",
    "vegetable = [\"carrot\", \"broccoli\", \"squash\"]\n",
    "\n",
    "combo = list(zip(fruit, vegetable))\n",
    "print(combo)\n",
    "\n",
    "#last fruit was not added to the combo list"
   ]
  },
  {
   "cell_type": "code",
   "execution_count": null,
   "id": "d40b4604-d1c3-4f4f-a5a3-84dc2c989f0e",
   "metadata": {},
   "outputs": [],
   "source": []
  }
 ],
 "metadata": {
  "kernelspec": {
   "display_name": "Python 3 (ipykernel)",
   "language": "python",
   "name": "python3"
  },
  "language_info": {
   "codemirror_mode": {
    "name": "ipython",
    "version": 3
   },
   "file_extension": ".py",
   "mimetype": "text/x-python",
   "name": "python",
   "nbconvert_exporter": "python",
   "pygments_lexer": "ipython3",
   "version": "3.9.12"
  }
 },
 "nbformat": 4,
 "nbformat_minor": 5
}
