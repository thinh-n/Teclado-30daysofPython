{
 "cells": [
  {
   "cell_type": "code",
   "execution_count": null,
   "id": "97aabb4d-63a3-42ca-970d-8c75ef3c3384",
   "metadata": {},
   "outputs": [],
   "source": [
    "Day 8: While Loops"
   ]
  },
  {
   "cell_type": "code",
   "execution_count": null,
   "id": "cdf8c064-eb25-49d5-9da2-362fdb02732b",
   "metadata": {},
   "outputs": [],
   "source": [
    "Exercises"
   ]
  },
  {
   "cell_type": "code",
   "execution_count": 4,
   "id": "25e590ac-9465-45c2-be5a-78a0bf8c55fa",
   "metadata": {},
   "outputs": [
    {
     "name": "stdin",
     "output_type": "stream",
     "text": [
      "Guess a number between 1-100:  85\n",
      "Your guess was too high, guess again:  14\n",
      "Your guess was too low, guess again:  15\n",
      "Your guess was too low, guess again:  16\n",
      "Your guess was too low, guess again:  19\n",
      "Your guess was too low, guess again:  37\n"
     ]
    },
    {
     "name": "stdout",
     "output_type": "stream",
     "text": [
      "Correct! You guessed the correct number.\n"
     ]
    }
   ],
   "source": [
    "# input number for user to guess\n",
    "number = 37\n",
    "\n",
    "# prompt user for initial guess\n",
    "guess = int(input(\"Guess a number between 1-100: \"))\n",
    "\n",
    "#while the guess is incorrect, prompt user if guess was too high or too low\n",
    "#prompt user to put new guess in each time they are incorrect\n",
    "while guess != number:\n",
    "    if guess > number:\n",
    "        guess = int(input(\"Your guess was too high, guess again: \"))\n",
    "    elif guess < number:\n",
    "        guess = int(input(\"Your guess was too low, guess again: \"))\n",
    "\n",
    "#once correct, print that they are right\n",
    "if guess == number:\n",
    "    print(\"Correct! You guessed the correct number.\")"
   ]
  },
  {
   "cell_type": "code",
   "execution_count": 5,
   "id": "78dc2a74-9cd2-431f-8e18-cc42af6bc70d",
   "metadata": {},
   "outputs": [
    {
     "name": "stdout",
     "output_type": "stream",
     "text": [
      "Python\n"
     ]
    }
   ],
   "source": [
    "#print out every letter in python BUT \"o\"\n",
    "word = \"Python\"\n",
    "print(word)"
   ]
  },
  {
   "cell_type": "code",
   "execution_count": 6,
   "id": "c9076795-2a11-4af1-b2d4-cce8c49fa1a8",
   "metadata": {},
   "outputs": [
    {
     "name": "stdout",
     "output_type": "stream",
     "text": [
      "P\n",
      "y\n",
      "t\n",
      "h\n",
      "n\n"
     ]
    }
   ],
   "source": [
    "for letter in word:\n",
    "    if letter == \"o\":\n",
    "        continue\n",
    "    print(letter)"
   ]
  },
  {
   "cell_type": "code",
   "execution_count": null,
   "id": "84f2f2c7-043e-4127-9d24-b2230a9ddf92",
   "metadata": {},
   "outputs": [],
   "source": []
  }
 ],
 "metadata": {
  "kernelspec": {
   "display_name": "Python 3 (ipykernel)",
   "language": "python",
   "name": "python3"
  },
  "language_info": {
   "codemirror_mode": {
    "name": "ipython",
    "version": 3
   },
   "file_extension": ".py",
   "mimetype": "text/x-python",
   "name": "python",
   "nbconvert_exporter": "python",
   "pygments_lexer": "ipython3",
   "version": "3.9.12"
  }
 },
 "nbformat": 4,
 "nbformat_minor": 5
}
