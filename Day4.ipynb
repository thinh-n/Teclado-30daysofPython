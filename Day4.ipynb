{
 "cells": [
  {
   "cell_type": "code",
   "execution_count": null,
   "id": "75076288-25f4-46ce-ab2c-9f24dbff1dd5",
   "metadata": {},
   "outputs": [],
   "source": [
    "Day 4: Basic Python Collections"
   ]
  },
  {
   "cell_type": "code",
   "execution_count": null,
   "id": "c8af484c-72ee-45fb-8b48-5877dbda8e32",
   "metadata": {},
   "outputs": [],
   "source": [
    "Exercises"
   ]
  },
  {
   "cell_type": "code",
   "execution_count": 27,
   "id": "f4be4b66-21f1-43ae-8a7e-4bc2ccc51e60",
   "metadata": {},
   "outputs": [],
   "source": [
    "movies = [\n",
    "    (\"Sleeping with other people\", \"Leslye Headland\", \"2015\", \"$3 million\"),\n",
    "]"
   ]
  },
  {
   "cell_type": "code",
   "execution_count": 28,
   "id": "c3baa0b9-4692-4f9a-a4c3-f9c3cfd1af03",
   "metadata": {},
   "outputs": [
    {
     "name": "stdin",
     "output_type": "stream",
     "text": [
      "What is the title of the movie? Interstellar\n",
      "Who is the director of the movie? Christopher Nolan\n",
      "When was the movie released? 2014\n",
      "What is the budget of the movie? $165 million\n"
     ]
    }
   ],
   "source": [
    "movie_title = input(\"What is the title of the movie?\" )\n",
    "movie_director = input(\"Who is the director of the movie?\" )\n",
    "movie_year = input(\"When was the movie released?\" )\n",
    "movie_budget = input(\"What is the budget of the movie?\" )"
   ]
  },
  {
   "cell_type": "code",
   "execution_count": 29,
   "id": "c516d258-0d44-4c23-82d7-9b46e31fbd2b",
   "metadata": {},
   "outputs": [],
   "source": [
    "movie = (movie_title, movie_director, movie_year, movie_budget)"
   ]
  },
  {
   "cell_type": "code",
   "execution_count": 30,
   "id": "b9a99b0d-a29e-43cd-a64a-0a262adc552e",
   "metadata": {},
   "outputs": [
    {
     "name": "stdout",
     "output_type": "stream",
     "text": [
      "Interstellar, 2014\n"
     ]
    }
   ],
   "source": [
    "print(f\"{movie_title}, {movie_year}\")"
   ]
  },
  {
   "cell_type": "code",
   "execution_count": 31,
   "id": "8f3b9a2e-bd63-40ae-ae68-d73402f3969e",
   "metadata": {},
   "outputs": [],
   "source": [
    "movies.append(movie)"
   ]
  },
  {
   "cell_type": "code",
   "execution_count": 32,
   "id": "33236660-05ab-4261-886f-49d368bd8e16",
   "metadata": {},
   "outputs": [
    {
     "name": "stdout",
     "output_type": "stream",
     "text": [
      "('Sleeping with other people', 'Leslye Headland', '2015', '$3 million')\n",
      "('Interstellar', 'Christopher Nolan', '2014', '$165 million')\n"
     ]
    }
   ],
   "source": [
    "print(movies[0])\n",
    "print(movies[1])"
   ]
  },
  {
   "cell_type": "code",
   "execution_count": 33,
   "id": "248bfb78-6115-4798-afc0-e570b2973acc",
   "metadata": {},
   "outputs": [],
   "source": [
    "del movies[0]"
   ]
  },
  {
   "cell_type": "code",
   "execution_count": 34,
   "id": "353b5ccb-17c5-4be1-bde4-55c096f4c3b0",
   "metadata": {},
   "outputs": [
    {
     "name": "stdout",
     "output_type": "stream",
     "text": [
      "[('Interstellar', 'Christopher Nolan', '2014', '$165 million')]\n"
     ]
    }
   ],
   "source": [
    "print(movies)"
   ]
  },
  {
   "cell_type": "code",
   "execution_count": null,
   "id": "a8364be2-8681-4c71-b9e8-edb7136b4799",
   "metadata": {},
   "outputs": [],
   "source": []
  }
 ],
 "metadata": {
  "kernelspec": {
   "display_name": "Python 3 (ipykernel)",
   "language": "python",
   "name": "python3"
  },
  "language_info": {
   "codemirror_mode": {
    "name": "ipython",
    "version": 3
   },
   "file_extension": ".py",
   "mimetype": "text/x-python",
   "name": "python",
   "nbconvert_exporter": "python",
   "pygments_lexer": "ipython3",
   "version": "3.9.12"
  }
 },
 "nbformat": 4,
 "nbformat_minor": 5
}
