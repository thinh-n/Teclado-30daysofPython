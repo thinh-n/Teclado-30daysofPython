{
 "cells": [
  {
   "cell_type": "code",
   "execution_count": null,
   "id": "9676d6f6-ee0b-4b83-a7b6-8bc9c1eeaf6c",
   "metadata": {},
   "outputs": [],
   "source": [
    "Day 11: Sets"
   ]
  },
  {
   "cell_type": "code",
   "execution_count": null,
   "id": "5312d1f4-9e04-44d8-8d26-699b68494444",
   "metadata": {},
   "outputs": [],
   "source": [
    "Exercises"
   ]
  },
  {
   "cell_type": "code",
   "execution_count": 20,
   "id": "f69d133f-cc5a-44c8-aad4-c697d8f2e4cd",
   "metadata": {},
   "outputs": [],
   "source": [
    "#Create an empty set and assign it to a variable\n",
    "\n",
    "food = set()"
   ]
  },
  {
   "cell_type": "code",
   "execution_count": 23,
   "id": "4e0b8a45-5359-414d-a89b-e5a194a3d687",
   "metadata": {},
   "outputs": [],
   "source": [
    "#Add three items to your empty set using either several add calls, or a \n",
    "#single call to update.\n",
    "\n",
    "#adds\n",
    "food.add(\"apple\")\n",
    "food.add(\"banana\")\n",
    "food.add(\"cherry\")\n",
    "\n",
    "#update\n",
    "food.update([\"apple\", \"banana\", \"cherry\"])"
   ]
  },
  {
   "cell_type": "code",
   "execution_count": 25,
   "id": "12aeb078-cb47-457c-a7a6-f8040c760191",
   "metadata": {},
   "outputs": [],
   "source": [
    "#Create a second set which includes at least one common element with the first set.\n",
    "\n",
    "fruits = {\"apple\", \"durian\", \"mango\"}"
   ]
  },
  {
   "cell_type": "code",
   "execution_count": 28,
   "id": "53074cc5-d34e-409f-9a3d-a015111d9580",
   "metadata": {},
   "outputs": [
    {
     "name": "stdout",
     "output_type": "stream",
     "text": [
      "{'cherry', 'banana', 'apple'}\n",
      "{'mango', 'durian', 'apple'}\n",
      "{'durian', 'apple', 'mango', 'cherry', 'banana'}\n",
      "{'apple'}\n",
      "{'durian', 'cherry', 'mango', 'banana'}\n"
     ]
    }
   ],
   "source": [
    "#Find the union, symmetric difference, and intersection of the two sets. \n",
    "#Print the results of each operation.\n",
    "\n",
    "print(food)\n",
    "print(fruits)\n",
    "\n",
    "print(food.union(fruits))\n",
    "print(food.intersection(fruits))\n",
    "print(food.symmetric_difference(fruits))"
   ]
  },
  {
   "cell_type": "code",
   "execution_count": null,
   "id": "5a695b78-5cd2-40b1-9956-de9516ad081e",
   "metadata": {},
   "outputs": [
    {
     "name": "stdout",
     "output_type": "stream",
     "text": [
      "{0, 1, 2, 3, 4, 5, 6, 7, 8, 9, 10, 11, 12, 13, 14, 15, 16, 17, 18, 19, 20, 21, 22, 23, 24, 25, 26, 27, 28, 29, 30, 31, 32, 33, 34, 35, 36, 37, 38, 39, 40, 41, 42, 43, 44, 45, 46, 47, 48, 49, 50, 51, 52, 53, 54, 55, 56, 57, 58, 59, 60, 61, 62, 63, 64, 65, 66, 67, 68, 69}\n"
     ]
    }
   ],
   "source": [
    "#Create a sequence of numbers using range, then ask the user to enter a number.\n",
    "#Inform the user whether or not their number was within the range you specified.\n",
    "\n",
    "number_set = set()\n",
    "for i in range(0,70):\n",
    "    number_set.add(i)\n",
    "    \n",
    "print(number_set)\n",
    "guess = input(\"Enter a number: \")\n",
    "print(int(guess) in number_set)\n",
    "if int(guess) in number_set == 1:\n",
    "    print(\"Your number is within the range.\")\n",
    "else:\n",
    "    print(\"Your number is not within the range.\")"
   ]
  },
  {
   "cell_type": "code",
   "execution_count": null,
   "id": "46346c75-da47-47f4-ba4a-7a93ecd25bb4",
   "metadata": {},
   "outputs": [],
   "source": []
  }
 ],
 "metadata": {
  "kernelspec": {
   "display_name": "Python 3 (ipykernel)",
   "language": "python",
   "name": "python3"
  },
  "language_info": {
   "codemirror_mode": {
    "name": "ipython",
    "version": 3
   },
   "file_extension": ".py",
   "mimetype": "text/x-python",
   "name": "python",
   "nbconvert_exporter": "python",
   "pygments_lexer": "ipython3",
   "version": "3.9.12"
  }
 },
 "nbformat": 4,
 "nbformat_minor": 5
}
