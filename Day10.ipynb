{
 "cells": [
  {
   "cell_type": "code",
   "execution_count": null,
   "id": "2f3eeebb-94f5-47d1-b2b3-bcbe6b2c3990",
   "metadata": {},
   "outputs": [],
   "source": [
    "Day 10: Dictionaries"
   ]
  },
  {
   "cell_type": "code",
   "execution_count": null,
   "id": "01e81be6-a713-4a7a-8eb9-a37dda1f4b4f",
   "metadata": {},
   "outputs": [],
   "source": [
    "Exercises"
   ]
  },
  {
   "cell_type": "code",
   "execution_count": 4,
   "id": "97ba6a84-ed71-4440-8b91-5e854ddbf6f1",
   "metadata": {},
   "outputs": [],
   "source": [
    "#convert tuple to dictionary\n",
    "#given tuple of album information\n",
    "tuple =  (\n",
    " \t\"The Dark Side of the Moon\",\n",
    " \t\"Pink Floyd\",\n",
    " \t1973,\n",
    " \t(\n",
    " \t\t\"Speak to Me\",\n",
    " \t\t\"Breathe\",\n",
    " \t\t\"On the Run\",\n",
    " \t\t\"Time\",\n",
    " \t\t\"The Great Gig in the Sky\",\n",
    " \t\t\"Money\",\n",
    " \t\t\"Us and Them\",\n",
    " \t\t\"Any Colour You Like\",\n",
    " \t\t\"Brain Damage\",\n",
    " \t\t\"Eclipse\"\n",
    " \t)\n",
    " )\n",
    "\n",
    "dictionary = {\n",
    "    \"title\": \"The Dark Side of the Moon\",\n",
    "    \"artist\": \"Pink Floyd\",\n",
    "    \"year\": 1973,\n",
    "    \"songs\": (\n",
    "        \"Speak to Me\",\n",
    " \t\t\"Breathe\",\n",
    " \t\t\"On the Run\",\n",
    " \t\t\"Time\",\n",
    " \t\t\"The Great Gig in the Sky\",\n",
    " \t\t\"Money\",\n",
    " \t\t\"Us and Them\",\n",
    " \t\t\"Any Colour You Like\",\n",
    " \t\t\"Brain Damage\",\n",
    " \t\t\"Eclipse\"\n",
    "    )\n",
    "}"
   ]
  },
  {
   "cell_type": "code",
   "execution_count": 5,
   "id": "5a83ca51-c6aa-42e1-b48b-9e1ec02cb16c",
   "metadata": {},
   "outputs": [
    {
     "name": "stdout",
     "output_type": "stream",
     "text": [
      "title: The Dark Side of the Moon\n",
      "artist: Pink Floyd\n",
      "year: 1973\n",
      "songs: ('Speak to Me', 'Breathe', 'On the Run', 'Time', 'The Great Gig in the Sky', 'Money', 'Us and Them', 'Any Colour You Like', 'Brain Damage', 'Eclipse')\n"
     ]
    }
   ],
   "source": [
    "#iterate over the dictionary printing out the key and value\n",
    "\n",
    "for key, value in dictionary.items():\n",
    "    print(f\"{key}: {value}\")"
   ]
  },
  {
   "cell_type": "code",
   "execution_count": 8,
   "id": "6026411e-8307-4a5c-b474-66d709c8cdcf",
   "metadata": {},
   "outputs": [],
   "source": [
    "#delete year key and value\n",
    "del dictionary[\"year\"]"
   ]
  },
  {
   "cell_type": "code",
   "execution_count": 9,
   "id": "a0a73265-f0d2-442b-8d41-45507542411b",
   "metadata": {},
   "outputs": [],
   "source": [
    "#delete songs year and value\n",
    "del dictionary [\"songs\"]"
   ]
  },
  {
   "cell_type": "code",
   "execution_count": 10,
   "id": "f2fe1b3c-0d9a-4b1e-a151-b52284d2ab81",
   "metadata": {},
   "outputs": [],
   "source": [
    "#add date of release value\n",
    "dictionary.update({\"date of release\": \"March 1st, 1973\"})"
   ]
  },
  {
   "cell_type": "code",
   "execution_count": 11,
   "id": "af32323a-18d2-427c-875c-0cf91b803c0a",
   "metadata": {},
   "outputs": [
    {
     "name": "stdout",
     "output_type": "stream",
     "text": [
      "title: The Dark Side of the Moon\n",
      "artist: Pink Floyd\n",
      "date of release: March 1st, 1973\n"
     ]
    }
   ],
   "source": [
    "for key, value in dictionary.items():\n",
    "    print(f\"{key}: {value}\")"
   ]
  },
  {
   "cell_type": "code",
   "execution_count": 13,
   "id": "27126148-7cd9-4cbe-bfa9-473bde6ecc7f",
   "metadata": {},
   "outputs": [
    {
     "ename": "KeyError",
     "evalue": "'year'",
     "output_type": "error",
     "traceback": [
      "\u001b[0;31m---------------------------------------------------------------------------\u001b[0m",
      "\u001b[0;31mKeyError\u001b[0m                                  Traceback (most recent call last)",
      "Input \u001b[0;32mIn [13]\u001b[0m, in \u001b[0;36m<cell line: 2>\u001b[0;34m()\u001b[0m\n\u001b[1;32m      1\u001b[0m \u001b[38;5;66;03m#try to get one of the deleted values\u001b[39;00m\n\u001b[0;32m----> 2\u001b[0m \u001b[38;5;28mprint\u001b[39m(\u001b[43mdictionary\u001b[49m\u001b[43m[\u001b[49m\u001b[38;5;124;43m\"\u001b[39;49m\u001b[38;5;124;43myear\u001b[39;49m\u001b[38;5;124;43m\"\u001b[39;49m\u001b[43m]\u001b[49m)\n",
      "\u001b[0;31mKeyError\u001b[0m: 'year'"
     ]
    }
   ],
   "source": [
    "#try to get one of the deleted values\n",
    "print(dictionary[\"year\"])"
   ]
  },
  {
   "cell_type": "code",
   "execution_count": 16,
   "id": "6f6cdbf9-cb59-41b3-9e3c-9891cf4c7fe8",
   "metadata": {},
   "outputs": [
    {
     "name": "stdout",
     "output_type": "stream",
     "text": [
      "None\n"
     ]
    }
   ],
   "source": [
    "#now use get function for deleted value\n",
    "print(dictionary.get(\"year\"))"
   ]
  },
  {
   "cell_type": "code",
   "execution_count": null,
   "id": "eb36ff58-57a4-47f8-9f07-82297586316c",
   "metadata": {},
   "outputs": [],
   "source": []
  }
 ],
 "metadata": {
  "kernelspec": {
   "display_name": "Python 3 (ipykernel)",
   "language": "python",
   "name": "python3"
  },
  "language_info": {
   "codemirror_mode": {
    "name": "ipython",
    "version": 3
   },
   "file_extension": ".py",
   "mimetype": "text/x-python",
   "name": "python",
   "nbconvert_exporter": "python",
   "pygments_lexer": "ipython3",
   "version": "3.9.12"
  }
 },
 "nbformat": 4,
 "nbformat_minor": 5
}
